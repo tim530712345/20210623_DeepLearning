{
  "nbformat": 4,
  "nbformat_minor": 0,
  "metadata": {
    "colab": {
      "name": "cifar10.ipynb",
      "provenance": [],
      "authorship_tag": "ABX9TyPlS17BWcjj2nMyuQzaKlwl",
      "include_colab_link": true
    },
    "kernelspec": {
      "name": "python3",
      "display_name": "Python 3"
    },
    "language_info": {
      "name": "python"
    }
  },
  "cells": [
    {
      "cell_type": "markdown",
      "metadata": {
        "id": "view-in-github",
        "colab_type": "text"
      },
      "source": [
        "<a href=\"https://colab.research.google.com/github/tim530712345/20210623_DeepLearning/blob/main/cifar10.ipynb\" target=\"_parent\"><img src=\"https://colab.research.google.com/assets/colab-badge.svg\" alt=\"Open In Colab\"/></a>"
      ]
    },
    {
      "cell_type": "code",
      "metadata": {
        "colab": {
          "base_uri": "https://localhost:8080/"
        },
        "id": "BwOjBXUV_ehi",
        "outputId": "21e88854-dd95-4b9a-8e05-c24fc8c63ea4"
      },
      "source": [
        "from tensorflow.keras.datasets.cifar10 import load_data\n",
        "(x_train, y_train), (x_test, y_test) = load_data()"
      ],
      "execution_count": 1,
      "outputs": [
        {
          "output_type": "stream",
          "text": [
            "Downloading data from https://www.cs.toronto.edu/~kriz/cifar-10-python.tar.gz\n",
            "170500096/170498071 [==============================] - 3s 0us/step\n"
          ],
          "name": "stdout"
        }
      ]
    },
    {
      "cell_type": "code",
      "metadata": {
        "colab": {
          "base_uri": "https://localhost:8080/"
        },
        "id": "u6x9ZkCb_xcy",
        "outputId": "ad759a37-a980-42b4-86fc-a2af3172e17c"
      },
      "source": [
        "# 50000: 一維的串列， (50000, 1): 二維表格\n",
        "print(x_train.shape)\n",
        "print(y_train.shape)\n",
        "print(x_test.shape)\n",
        "print(y_test.shape)"
      ],
      "execution_count": 3,
      "outputs": [
        {
          "output_type": "stream",
          "text": [
            "(50000, 32, 32, 3)\n",
            "(50000, 1)\n",
            "(10000, 32, 32, 3)\n",
            "(10000, 1)\n"
          ],
          "name": "stdout"
        }
      ]
    },
    {
      "cell_type": "code",
      "metadata": {
        "id": "ce87_kxrCNk8"
      },
      "source": [
        "names= [\n",
        "    'airplan',\t\t\t\t\t\t\t\t\t\t\n",
        "    'automobile',\t\t\t\t\t\t\t\t\t\t\n",
        "    'bird',\t\t\t\t\t\t\t\t\t\n",
        "    'cat',\t\t\t\t\t\t\t\t\t\n",
        "    'deer',\t\t\t\t\t\t\t\t\t\n",
        "    'dog',\t\t\t\t\t\t\t\t\n",
        "    'frog',\t\t\t\t\t\t\t\t\n",
        "    'horse',\t\t\t\t\t\t\t\t\n",
        "    'ship',\t\t\t\t\t\t\t\t\n",
        "    'truck'\n",
        "]"
      ],
      "execution_count": 7,
      "outputs": []
    },
    {
      "cell_type": "code",
      "metadata": {
        "colab": {
          "base_uri": "https://localhost:8080/",
          "height": 300
        },
        "id": "-3eB5EGcAqDN",
        "outputId": "25dd2c22-5bd2-44c9-995d-743879a7818d"
      },
      "source": [
        "import matplotlib.pyplot as plt\n",
        "import random\n",
        "idx = random.randint(0, 49999)\n",
        "ans = y_train[idx][0]\n",
        "print(names[ans])\n",
        "plt.imshow(x_train[idx])"
      ],
      "execution_count": 9,
      "outputs": [
        {
          "output_type": "stream",
          "text": [
            "frog\n"
          ],
          "name": "stdout"
        },
        {
          "output_type": "execute_result",
          "data": {
            "text/plain": [
              "<matplotlib.image.AxesImage at 0x7f19570baed0>"
            ]
          },
          "metadata": {
            "tags": []
          },
          "execution_count": 9
        },
        {
          "output_type": "display_data",
          "data": {
            "image/png": "[encoded data removed]",
            "text/plain": [
              "<Figure size 432x288 with 1 Axes>"
            ]
          },
          "metadata": {
            "tags": [],
            "needs_background": "light"
          }
        }
      ]
    },
    {
      "cell_type": "code",
      "metadata": {
        "id": "Y9fJhSlTBkHo"
      },
      "source": [
        ""
      ],
      "execution_count": null,
      "outputs": []
    }
  ]
}